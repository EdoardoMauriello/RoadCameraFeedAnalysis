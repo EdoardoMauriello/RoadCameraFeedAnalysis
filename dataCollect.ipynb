{
 "cells": [
  {
   "cell_type": "code",
   "execution_count": 2,
   "metadata": {},
   "outputs": [
    {
     "name": "stderr",
     "output_type": "stream",
     "text": [
      "C:\\Users\\edoar\\AppData\\Local\\Temp\\ipykernel_18896\\1541897519.py:4: DeprecationWarning: \n",
      "Pyarrow will become a required dependency of pandas in the next major release of pandas (pandas 3.0),\n",
      "(to allow more performant data types, such as the Arrow string type, and better interoperability with other libraries)\n",
      "but was not found to be installed on your system.\n",
      "If this would cause problems for you,\n",
      "please provide us feedback at https://github.com/pandas-dev/pandas/issues/54466\n",
      "        \n",
      "  import pandas as pd\n"
     ]
    }
   ],
   "source": [
    "import requests\n",
    "from datetime import datetime\n",
    "import matplotlib.pyplot as plt\n",
    "import pandas as pd\n",
    "import os\n",
    "import cv2"
   ]
  },
  {
   "cell_type": "code",
   "execution_count": null,
   "metadata": {},
   "outputs": [],
   "source": [
    "from ultralytics import YOLO"
   ]
  },
  {
   "cell_type": "code",
   "execution_count": 6,
   "metadata": {},
   "outputs": [],
   "source": [
    "data_path = 'data/'\n",
    "webcam_url_base = 'https://video.autostrade.it/video-mp4_hq'\n",
    "df_cameras = pd.read_csv(data_path + 'cameras.csv')\n",
    "\n",
    "dcf = os.path.isfile( data_path + 'data_collection.csv')\n",
    "if dcf == False :\n",
    "    df = pd.DataFrame(columns=['date', 'cars', 'filename'])\n",
    "    df.to_csv(data_path + 'data_collection.csv', index=False)"
   ]
  },
  {
   "cell_type": "code",
   "execution_count": 14,
   "metadata": {},
   "outputs": [
    {
     "name": "stdout",
     "output_type": "stream",
     "text": [
      "https://video.autostrade.it/video-mp4_hq/dt2/323f0c73-1c83-484d-a2c5-6a6750e5db7e-11.mp4\n",
      "https://video.autostrade.it/video-mp4_hq/dt2/f525e7d5-27f6-4435-bee4-c2b67f29ca73-0.mp4\n",
      "https://video.autostrade.it/video-mp4_hq/dt2/549646d9-d7d8-42bb-8306-b2f5ea21484e-1.mp4\n"
     ]
    }
   ],
   "source": [
    "for _,row in df_cameras.iterrows():\n",
    "    video_url = webcam_url_base + row['camCode'] + '.mp4'\n",
    "    \n"
   ]
  }
 ],
 "metadata": {
  "kernelspec": {
   "display_name": "Python 3",
   "language": "python",
   "name": "python3"
  },
  "language_info": {
   "codemirror_mode": {
    "name": "ipython",
    "version": 3
   },
   "file_extension": ".py",
   "mimetype": "text/x-python",
   "name": "python",
   "nbconvert_exporter": "python",
   "pygments_lexer": "ipython3",
   "version": "3.11.9"
  }
 },
 "nbformat": 4,
 "nbformat_minor": 2
}
